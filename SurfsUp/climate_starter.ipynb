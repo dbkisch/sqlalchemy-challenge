{
 "cells": [
  {
   "cell_type": "code",
   "execution_count": 2,
   "metadata": {},
   "outputs": [],
   "source": [
    "%matplotlib inline\n",
    "from matplotlib import style\n",
    "style.use('fivethirtyeight')\n",
    "import matplotlib.pyplot as plt\n"
   ]
  },
  {
   "cell_type": "code",
   "execution_count": 3,
   "metadata": {},
   "outputs": [],
   "source": [
    "import numpy as np\n",
    "import pandas as pd\n",
    "from datetime import datetime as dt\n",
    "from datetime import timedelta as td\n"
   ]
  },
  {
   "cell_type": "markdown",
   "metadata": {},
   "source": [
    "# Reflect Tables into SQLAlchemy ORM"
   ]
  },
  {
   "cell_type": "code",
   "execution_count": 4,
   "metadata": {},
   "outputs": [],
   "source": [
    "# Python SQL toolkit and Object Relational Mapper\n",
    "import sqlalchemy\n",
    "from sqlalchemy.ext.automap import automap_base\n",
    "from sqlalchemy.orm import Session\n",
    "from sqlalchemy import create_engine, func\n"
   ]
  },
  {
   "cell_type": "code",
   "execution_count": 5,
   "metadata": {},
   "outputs": [],
   "source": [
    "# Create engine using the `hawaii.sqlite` database file\n",
    "engine = create_engine(\"sqlite:///Resources/hawaii.sqlite\")\n"
   ]
  },
  {
   "cell_type": "code",
   "execution_count": 6,
   "metadata": {},
   "outputs": [],
   "source": [
    "# Declare a Base using `automap_base()`\n",
    "Base = automap_base()\n",
    "# Use the Base class to reflect the database tables\n",
    "Base.prepare(autoload_with=engine)"
   ]
  },
  {
   "cell_type": "code",
   "execution_count": 7,
   "metadata": {},
   "outputs": [
    {
     "data": {
      "text/plain": [
       "['measurement', 'station']"
      ]
     },
     "execution_count": 7,
     "metadata": {},
     "output_type": "execute_result"
    }
   ],
   "source": [
    "# Print all of the classes mapped to the Base\n",
    "Base.classes.keys()"
   ]
  },
  {
   "cell_type": "code",
   "execution_count": 8,
   "metadata": {},
   "outputs": [],
   "source": [
    "# Assign the measurement class to a variable called `Measurement` and\n",
    "# the station class to a variable called `Station`\n",
    "Measurement = Base.classes.measurement\n",
    "Station = Base.classes.station"
   ]
  },
  {
   "cell_type": "code",
   "execution_count": 9,
   "metadata": {},
   "outputs": [],
   "source": [
    "# Create a session\n",
    "session = Session(engine)"
   ]
  },
  {
   "cell_type": "markdown",
   "metadata": {},
   "source": [
    "# Exploratory Precipitation Analysis"
   ]
  },
  {
   "cell_type": "code",
   "execution_count": 10,
   "metadata": {},
   "outputs": [
    {
     "name": "stdout",
     "output_type": "stream",
     "text": [
      "('2017-08-23',)\n"
     ]
    }
   ],
   "source": [
    "# Find the most recent date in the data set.\n",
    "max_dt = session.query(Measurement.date).order_by(Measurement.date.desc()).first()\n",
    "print(max_dt)\n"
   ]
  },
  {
   "cell_type": "code",
   "execution_count": 11,
   "metadata": {},
   "outputs": [],
   "source": [
    "# Design a query to retrieve the last 12 months of precipitation data and plot the results.\n",
    "# Starting from the most recent data point in the database.\n",
    "end_dt = max_dt[0]\n",
    "d1=dt.strptime(end_dt, \"%Y-%m-%d\")\n",
    "\n",
    "# Calculate the date one year from the last date in data set.\n",
    "start_dt = d1 - td(days=366)"
   ]
  },
  {
   "cell_type": "code",
   "execution_count": 12,
   "metadata": {},
   "outputs": [
    {
     "data": {
      "text/plain": [
       "[('2016-08-23', 1.79),\n",
       " ('2016-08-24', 2.28),\n",
       " ('2016-08-25', 0.21),\n",
       " ('2016-08-26', 0.04),\n",
       " ('2016-08-27', 0.18),\n",
       " ('2016-08-28', 2.07),\n",
       " ('2016-08-29', 0.9),\n",
       " ('2016-08-30', 0.05),\n",
       " ('2016-08-31', 2.46),\n",
       " ('2016-09-01', 0.02),\n",
       " ('2016-09-02', 0.19),\n",
       " ('2016-09-03', 1.0),\n",
       " ('2016-09-04', 0.74),\n",
       " ('2016-09-05', 0.18),\n",
       " ('2016-09-06', 1.0),\n",
       " ('2016-09-07', 1.35),\n",
       " ('2016-09-08', 0.22),\n",
       " ('2016-09-09', 0.35),\n",
       " ('2016-09-10', 1.16),\n",
       " ('2016-09-11', 0.6),\n",
       " ('2016-09-12', 1.04),\n",
       " ('2016-09-13', 1.2),\n",
       " ('2016-09-14', 6.7),\n",
       " ('2016-09-15', 3.35),\n",
       " ('2016-09-16', 0.61),\n",
       " ('2016-09-17', 0.36),\n",
       " ('2016-09-18', 0.42),\n",
       " ('2016-09-19', 0.25),\n",
       " ('2016-09-20', 0.43),\n",
       " ('2016-09-21', 1.02),\n",
       " ('2016-09-22', 0.75),\n",
       " ('2016-09-23', 0.94),\n",
       " ('2016-09-24', 0.27),\n",
       " ('2016-09-25', 0.04),\n",
       " ('2016-09-26', 1.02),\n",
       " ('2016-09-27', 1.0),\n",
       " ('2016-09-28', 0.08),\n",
       " ('2016-09-29', 1.49),\n",
       " ('2016-09-30', 0.38),\n",
       " ('2016-10-01', 1.02),\n",
       " ('2016-10-02', 0.61),\n",
       " ('2016-10-03', 0.46),\n",
       " ('2016-10-04', 3.46),\n",
       " ('2016-10-05', 0.81),\n",
       " ('2016-10-06', 0.07),\n",
       " ('2016-10-07', 0.01),\n",
       " ('2016-10-08', 0.04),\n",
       " ('2016-10-09', 0.0),\n",
       " ('2016-10-10', 0.0),\n",
       " ('2016-10-11', 0.35),\n",
       " ('2016-10-12', 0.03),\n",
       " ('2016-10-13', 0.06),\n",
       " ('2016-10-14', 0.0),\n",
       " ('2016-10-15', 0.33),\n",
       " ('2016-10-16', 0.0),\n",
       " ('2016-10-17', 0.38),\n",
       " ('2016-10-18', 0.48),\n",
       " ('2016-10-19', 0.11),\n",
       " ('2016-10-20', 1.0),\n",
       " ('2016-10-21', 0.15),\n",
       " ('2016-10-22', 1.37),\n",
       " ('2016-10-23', 0.24),\n",
       " ('2016-10-24', 0.7),\n",
       " ('2016-10-25', 0.4),\n",
       " ('2016-10-26', 0.2),\n",
       " ('2016-10-27', 1.25),\n",
       " ('2016-10-28', 0.37),\n",
       " ('2016-10-29', 0.26),\n",
       " ('2016-10-30', 0.95),\n",
       " ('2016-10-31', 1.35),\n",
       " ('2016-11-01', 0.1),\n",
       " ('2016-11-02', 0.04),\n",
       " ('2016-11-03', 0.02),\n",
       " ('2016-11-04', 0.06),\n",
       " ('2016-11-05', 0.38),\n",
       " ('2016-11-06', 0.05),\n",
       " ('2016-11-07', 0.13),\n",
       " ('2016-11-08', 0.53),\n",
       " ('2016-11-09', 0.17),\n",
       " ('2016-11-10', 0.01),\n",
       " ('2016-11-11', 0.0),\n",
       " ('2016-11-12', 0.0),\n",
       " ('2016-11-13', 0.0),\n",
       " ('2016-11-14', 0.06),\n",
       " ('2016-11-15', 0.05),\n",
       " ('2016-11-16', 0.91),\n",
       " ('2016-11-17', 0.03),\n",
       " ('2016-11-18', 0.02),\n",
       " ('2016-11-19', 0.13),\n",
       " ('2016-11-20', 0.4),\n",
       " ('2016-11-21', 2.87),\n",
       " ('2016-11-22', 2.11),\n",
       " ('2016-11-23', 0.25),\n",
       " ('2016-11-24', 0.72),\n",
       " ('2016-11-25', 1.03),\n",
       " ('2016-11-26', 0.3),\n",
       " ('2016-11-27', 0.29),\n",
       " ('2016-11-28', 0.69),\n",
       " ('2016-11-29', 0.2),\n",
       " ('2016-11-30', 0.79),\n",
       " ('2016-12-01', 0.72),\n",
       " ('2016-12-02', 1.27),\n",
       " ('2016-12-03', 1.62),\n",
       " ('2016-12-04', 0.32),\n",
       " ('2016-12-05', 1.6),\n",
       " ('2016-12-06', 0.02),\n",
       " ('2016-12-07', 0.17),\n",
       " ('2016-12-08', 0.27),\n",
       " ('2016-12-09', 0.52),\n",
       " ('2016-12-10', 0.05),\n",
       " ('2016-12-11', 0.13),\n",
       " ('2016-12-12', 0.02),\n",
       " ('2016-12-13', 0.34),\n",
       " ('2016-12-14', 0.92),\n",
       " ('2016-12-15', 0.14),\n",
       " ('2016-12-16', 0.03),\n",
       " ('2016-12-17', 0.16),\n",
       " ('2016-12-18', 0.29),\n",
       " ('2016-12-19', 0.21),\n",
       " ('2016-12-20', 0.02),\n",
       " ('2016-12-21', 0.55),\n",
       " ('2016-12-22', 1.24),\n",
       " ('2016-12-23', 0.83),\n",
       " ('2016-12-24', 1.08),\n",
       " ('2016-12-25', 0.38),\n",
       " ('2016-12-26', 1.48),\n",
       " ('2016-12-27', 0.14),\n",
       " ('2016-12-28', 0.14),\n",
       " ('2016-12-29', 1.03),\n",
       " ('2016-12-30', 2.37),\n",
       " ('2016-12-31', 0.9),\n",
       " ('2017-01-01', 0.29),\n",
       " ('2017-01-02', 0.01),\n",
       " ('2017-01-03', 0.0),\n",
       " ('2017-01-04', 0.18),\n",
       " ('2017-01-05', 0.47),\n",
       " ('2017-01-06', 0.59),\n",
       " ('2017-01-07', 0.06),\n",
       " ('2017-01-08', 0.03),\n",
       " ('2017-01-09', 0.0),\n",
       " ('2017-01-10', 0.0),\n",
       " ('2017-01-11', 0.0),\n",
       " ('2017-01-12', 0.0),\n",
       " ('2017-01-13', 0.0),\n",
       " ('2017-01-14', 0.01),\n",
       " ('2017-01-15', 0.01),\n",
       " ('2017-01-16', 0.0),\n",
       " ('2017-01-17', 0.0),\n",
       " ('2017-01-18', 0.07),\n",
       " ('2017-01-19', 0.02),\n",
       " ('2017-01-20', 0.0),\n",
       " ('2017-01-21', 0.11),\n",
       " ('2017-01-22', 0.72),\n",
       " ('2017-01-23', 0.85),\n",
       " ('2017-01-24', 1.85),\n",
       " ('2017-01-25', 2.64),\n",
       " ('2017-01-26', 0.1),\n",
       " ('2017-01-27', 0.03),\n",
       " ('2017-01-28', 0.14),\n",
       " ('2017-01-29', 0.55),\n",
       " ('2017-01-30', 0.05),\n",
       " ('2017-01-31', 0.0),\n",
       " ('2017-02-01', 0.0),\n",
       " ('2017-02-02', 0.0),\n",
       " ('2017-02-03', 0.0),\n",
       " ('2017-02-04', 0.0),\n",
       " ('2017-02-05', 0.0),\n",
       " ('2017-02-06', 0.18),\n",
       " ('2017-02-07', 1.8),\n",
       " ('2017-02-08', 1.08),\n",
       " ('2017-02-09', 0.02),\n",
       " ('2017-02-10', 0.0),\n",
       " ('2017-02-11', 5.04),\n",
       " ('2017-02-12', 2.98),\n",
       " ('2017-02-13', 2.9),\n",
       " ('2017-02-14', 0.01),\n",
       " ('2017-02-15', 0.07),\n",
       " ('2017-02-16', 0.73),\n",
       " ('2017-02-17', 0.8),\n",
       " ('2017-02-18', 0.01),\n",
       " ('2017-02-19', 0.1),\n",
       " ('2017-02-20', 0.0),\n",
       " ('2017-02-21', 0.07),\n",
       " ('2017-02-22', 0.32),\n",
       " ('2017-02-23', 0.01),\n",
       " ('2017-02-24', 0.0),\n",
       " ('2017-02-25', 0.12),\n",
       " ('2017-02-26', 0.0),\n",
       " ('2017-02-27', 0.0),\n",
       " ('2017-02-28', 0.58),\n",
       " ('2017-03-01', 2.4),\n",
       " ('2017-03-02', 1.88),\n",
       " ('2017-03-03', 0.56),\n",
       " ('2017-03-04', 0.0),\n",
       " ('2017-03-05', 0.41),\n",
       " ('2017-03-06', 0.51),\n",
       " ('2017-03-07', 0.0),\n",
       " ('2017-03-08', 0.0),\n",
       " ('2017-03-09', 0.8),\n",
       " ('2017-03-10', 0.13),\n",
       " ('2017-03-11', 0.03),\n",
       " ('2017-03-12', 0.0),\n",
       " ('2017-03-13', 0.0),\n",
       " ('2017-03-14', 0.06),\n",
       " ('2017-03-15', 0.06),\n",
       " ('2017-03-16', 0.0),\n",
       " ('2017-03-17', 0.35),\n",
       " ('2017-03-18', 0.0),\n",
       " ('2017-03-19', 0.0),\n",
       " ('2017-03-20', 0.02),\n",
       " ('2017-03-21', 0.09),\n",
       " ('2017-03-22', 0.0),\n",
       " ('2017-03-23', 0.03),\n",
       " ('2017-03-24', 0.6),\n",
       " ('2017-03-25', 0.93),\n",
       " ('2017-03-26', 0.0),\n",
       " ('2017-03-27', 0.01),\n",
       " ('2017-03-28', 0.68),\n",
       " ('2017-03-29', 0.08),\n",
       " ('2017-03-30', 0.08),\n",
       " ('2017-03-31', 0.01),\n",
       " ('2017-04-01', 0.21),\n",
       " ('2017-04-02', 0.0),\n",
       " ('2017-04-03', 0.26),\n",
       " ('2017-04-04', 0.09),\n",
       " ('2017-04-05', 0.45),\n",
       " ('2017-04-06', 0.06),\n",
       " ('2017-04-07', 0.0),\n",
       " ('2017-04-08', 0.0),\n",
       " ('2017-04-09', 0.0),\n",
       " ('2017-04-10', 0.01),\n",
       " ('2017-04-11', 0.25),\n",
       " ('2017-04-12', 0.65),\n",
       " ('2017-04-13', 0.59),\n",
       " ('2017-04-14', 2.82),\n",
       " ('2017-04-15', 0.9),\n",
       " ('2017-04-16', 0.49),\n",
       " ('2017-04-17', 1.3),\n",
       " ('2017-04-18', 2.03),\n",
       " ('2017-04-19', 0.14),\n",
       " ('2017-04-20', 0.35),\n",
       " ('2017-04-21', 2.36),\n",
       " ('2017-04-22', 1.58),\n",
       " ('2017-04-23', 0.35),\n",
       " ('2017-04-24', 0.05),\n",
       " ('2017-04-25', 0.0),\n",
       " ('2017-04-26', 0.22),\n",
       " ('2017-04-27', 0.19),\n",
       " ('2017-04-28', 2.6),\n",
       " ('2017-04-29', 6.25),\n",
       " ('2017-04-30', 1.31),\n",
       " ('2017-05-01', 0.26),\n",
       " ('2017-05-02', 0.03),\n",
       " ('2017-05-03', 0.01),\n",
       " ('2017-05-04', 0.08),\n",
       " ('2017-05-05', 0.28),\n",
       " ('2017-05-06', 0.06),\n",
       " ('2017-05-07', 0.07),\n",
       " ('2017-05-08', 1.11),\n",
       " ('2017-05-09', 1.62),\n",
       " ('2017-05-10', 0.55),\n",
       " ('2017-05-11', 0.44),\n",
       " ('2017-05-12', 0.1),\n",
       " ('2017-05-13', 0.12),\n",
       " ('2017-05-14', 1.0),\n",
       " ('2017-05-15', 0.6),\n",
       " ('2017-05-16', 0.3),\n",
       " ('2017-05-17', 0.07),\n",
       " ('2017-05-18', 0.46),\n",
       " ('2017-05-19', 0.02),\n",
       " ('2017-05-20', 0.02),\n",
       " ('2017-05-21', 0.01),\n",
       " ('2017-05-22', 0.3),\n",
       " ('2017-05-23', 0.44),\n",
       " ('2017-05-24', 2.17),\n",
       " ('2017-05-25', 0.88),\n",
       " ('2017-05-26', 0.02),\n",
       " ('2017-05-27', 0.5),\n",
       " ('2017-05-28', 0.29),\n",
       " ('2017-05-29', 0.4),\n",
       " ('2017-05-30', 1.12),\n",
       " ('2017-05-31', 0.25),\n",
       " ('2017-06-01', 0.03),\n",
       " ('2017-06-02', 0.15),\n",
       " ('2017-06-03', 0.2),\n",
       " ('2017-06-04', 0.82),\n",
       " ('2017-06-05', 0.05),\n",
       " ('2017-06-06', 0.0),\n",
       " ('2017-06-07', 0.01),\n",
       " ('2017-06-08', 0.02),\n",
       " ('2017-06-09', 0.02),\n",
       " ('2017-06-10', 0.62),\n",
       " ('2017-06-11', 0.74),\n",
       " ('2017-06-12', 0.81),\n",
       " ('2017-06-13', 0.65),\n",
       " ('2017-06-14', 0.81),\n",
       " ('2017-06-15', 1.69),\n",
       " ('2017-06-16', 0.1),\n",
       " ('2017-06-17', 0.35),\n",
       " ('2017-06-18', 0.7),\n",
       " ('2017-06-19', 0.4),\n",
       " ('2017-06-20', 0.31),\n",
       " ('2017-06-21', 0.3),\n",
       " ('2017-06-22', 0.28),\n",
       " ('2017-06-23', 0.5),\n",
       " ('2017-06-24', 0.36),\n",
       " ('2017-06-25', 0.5),\n",
       " ('2017-06-26', 0.06),\n",
       " ('2017-06-27', 0.1),\n",
       " ('2017-06-28', 0.02),\n",
       " ('2017-06-29', 0.04),\n",
       " ('2017-06-30', 0.2),\n",
       " ('2017-07-01', 0.1),\n",
       " ('2017-07-02', 0.5),\n",
       " ('2017-07-03', 0.4),\n",
       " ('2017-07-04', 0.08),\n",
       " ('2017-07-05', 0.0),\n",
       " ('2017-07-06', 0.02),\n",
       " ('2017-07-07', 0.3),\n",
       " ('2017-07-08', 0.06),\n",
       " ('2017-07-09', 0.11),\n",
       " ('2017-07-10', 0.02),\n",
       " ('2017-07-11', 0.02),\n",
       " ('2017-07-12', 0.28),\n",
       " ('2017-07-13', 0.68),\n",
       " ('2017-07-14', 0.68),\n",
       " ('2017-07-15', 0.1),\n",
       " ('2017-07-16', 0.5),\n",
       " ('2017-07-17', 0.39),\n",
       " ('2017-07-18', 2.4),\n",
       " ('2017-07-19', 0.27),\n",
       " ('2017-07-20', 0.7),\n",
       " ('2017-07-21', 0.1),\n",
       " ('2017-07-22', 4.0),\n",
       " ('2017-07-23', 0.8),\n",
       " ('2017-07-24', 1.19),\n",
       " ('2017-07-25', 0.3),\n",
       " ('2017-07-26', 0.3),\n",
       " ('2017-07-27', 0.01),\n",
       " ('2017-07-28', 0.4),\n",
       " ('2017-07-29', 0.3),\n",
       " ('2017-07-30', 0.3),\n",
       " ('2017-07-31', 0.0),\n",
       " ('2017-08-01', 0.12),\n",
       " ('2017-08-02', 0.25),\n",
       " ('2017-08-03', 0.06),\n",
       " ('2017-08-04', 0.04),\n",
       " ('2017-08-05', 0.06),\n",
       " ('2017-08-06', 0.0),\n",
       " ('2017-08-07', 0.05),\n",
       " ('2017-08-08', 0.34),\n",
       " ('2017-08-09', 0.15),\n",
       " ('2017-08-10', 0.07),\n",
       " ('2017-08-11', 0.0),\n",
       " ('2017-08-12', 0.14),\n",
       " ('2017-08-13', 0.0),\n",
       " ('2017-08-14', 0.22),\n",
       " ('2017-08-15', 0.42),\n",
       " ('2017-08-16', 0.42),\n",
       " ('2017-08-17', 0.13),\n",
       " ('2017-08-18', 0.06),\n",
       " ('2017-08-19', 0.09),\n",
       " ('2017-08-20', 0.01),\n",
       " ('2017-08-21', 0.56),\n",
       " ('2017-08-22', 0.5),\n",
       " ('2017-08-23', 0.45)]"
      ]
     },
     "execution_count": 12,
     "metadata": {},
     "output_type": "execute_result"
    }
   ],
   "source": [
    "# Perform a query to retrieve the data and precipitation scores\n",
    "precip_data = session.query(Measurement.date, func.max(Measurement.prcp)).\\\n",
    "    filter(Measurement.date >= start_dt).\\\n",
    "    filter(Measurement.date <= end_dt).\\\n",
    "    group_by(Measurement.date).\\\n",
    "    order_by(Measurement.date).all()\n",
    "precip_data"
   ]
  },
  {
   "cell_type": "code",
   "execution_count": 13,
   "metadata": {},
   "outputs": [
    {
     "data": {
      "text/html": [
       "<div>\n",
       "<style scoped>\n",
       "    .dataframe tbody tr th:only-of-type {\n",
       "        vertical-align: middle;\n",
       "    }\n",
       "\n",
       "    .dataframe tbody tr th {\n",
       "        vertical-align: top;\n",
       "    }\n",
       "\n",
       "    .dataframe thead th {\n",
       "        text-align: right;\n",
       "    }\n",
       "</style>\n",
       "<table border=\"1\" class=\"dataframe\">\n",
       "  <thead>\n",
       "    <tr style=\"text-align: right;\">\n",
       "      <th></th>\n",
       "      <th>Date</th>\n",
       "      <th>Precipitation</th>\n",
       "    </tr>\n",
       "  </thead>\n",
       "  <tbody>\n",
       "    <tr>\n",
       "      <th>0</th>\n",
       "      <td>2016-08-23</td>\n",
       "      <td>1.79</td>\n",
       "    </tr>\n",
       "    <tr>\n",
       "      <th>1</th>\n",
       "      <td>2016-08-24</td>\n",
       "      <td>2.28</td>\n",
       "    </tr>\n",
       "    <tr>\n",
       "      <th>2</th>\n",
       "      <td>2016-08-25</td>\n",
       "      <td>0.21</td>\n",
       "    </tr>\n",
       "    <tr>\n",
       "      <th>3</th>\n",
       "      <td>2016-08-26</td>\n",
       "      <td>0.04</td>\n",
       "    </tr>\n",
       "    <tr>\n",
       "      <th>4</th>\n",
       "      <td>2016-08-27</td>\n",
       "      <td>0.18</td>\n",
       "    </tr>\n",
       "    <tr>\n",
       "      <th>...</th>\n",
       "      <td>...</td>\n",
       "      <td>...</td>\n",
       "    </tr>\n",
       "    <tr>\n",
       "      <th>361</th>\n",
       "      <td>2017-08-19</td>\n",
       "      <td>0.09</td>\n",
       "    </tr>\n",
       "    <tr>\n",
       "      <th>362</th>\n",
       "      <td>2017-08-20</td>\n",
       "      <td>0.01</td>\n",
       "    </tr>\n",
       "    <tr>\n",
       "      <th>363</th>\n",
       "      <td>2017-08-21</td>\n",
       "      <td>0.56</td>\n",
       "    </tr>\n",
       "    <tr>\n",
       "      <th>364</th>\n",
       "      <td>2017-08-22</td>\n",
       "      <td>0.50</td>\n",
       "    </tr>\n",
       "    <tr>\n",
       "      <th>365</th>\n",
       "      <td>2017-08-23</td>\n",
       "      <td>0.45</td>\n",
       "    </tr>\n",
       "  </tbody>\n",
       "</table>\n",
       "<p>366 rows × 2 columns</p>\n",
       "</div>"
      ],
      "text/plain": [
       "           Date  Precipitation\n",
       "0    2016-08-23           1.79\n",
       "1    2016-08-24           2.28\n",
       "2    2016-08-25           0.21\n",
       "3    2016-08-26           0.04\n",
       "4    2016-08-27           0.18\n",
       "..          ...            ...\n",
       "361  2017-08-19           0.09\n",
       "362  2017-08-20           0.01\n",
       "363  2017-08-21           0.56\n",
       "364  2017-08-22           0.50\n",
       "365  2017-08-23           0.45\n",
       "\n",
       "[366 rows x 2 columns]"
      ]
     },
     "execution_count": 13,
     "metadata": {},
     "output_type": "execute_result"
    }
   ],
   "source": [
    "# Save the query results as a Pandas DataFrame. Explicitly set the column names\n",
    "precip_data_df = pd.DataFrame(precip_data, columns=['Date','Precipitation'])\n",
    "\n",
    "# Sort the dataframe by date\n",
    "precip_data_df.sort_values('Date')"
   ]
  },
  {
   "cell_type": "code",
   "execution_count": 14,
   "metadata": {},
   "outputs": [
    {
     "data": {
      "image/png": "[encoded data removed]",
      "text/plain": [
       "<Figure size 800x600 with 1 Axes>"
      ]
     },
     "metadata": {},
     "output_type": "display_data"
    }
   ],
   "source": [
    "# Use Pandas Plotting with Matplotlib to plot the data\n",
    "\n",
    "ax = precip_data_df.plot(kind='bar', x='Date', y='Precipitation',\n",
    "                    title='Precipitation by Date',\n",
    "                    figsize=(8,6),\n",
    "                    width=5,\n",
    "                    fontsize=12,\n",
    "                    rot=90)\n",
    "ax.set_xticks(ax.get_xticks()[::39])\n",
    "ax.set_xlabel(\"Date\")\n",
    "ax.set_ylabel(\"Inches\")\n",
    "\n",
    "plt.show()"
   ]
  },
  {
   "cell_type": "code",
   "execution_count": 15,
   "metadata": {},
   "outputs": [
    {
     "data": {
      "text/html": [
       "<div>\n",
       "<style scoped>\n",
       "    .dataframe tbody tr th:only-of-type {\n",
       "        vertical-align: middle;\n",
       "    }\n",
       "\n",
       "    .dataframe tbody tr th {\n",
       "        vertical-align: top;\n",
       "    }\n",
       "\n",
       "    .dataframe thead th {\n",
       "        text-align: right;\n",
       "    }\n",
       "</style>\n",
       "<table border=\"1\" class=\"dataframe\">\n",
       "  <thead>\n",
       "    <tr style=\"text-align: right;\">\n",
       "      <th></th>\n",
       "      <th>prcp</th>\n",
       "    </tr>\n",
       "  </thead>\n",
       "  <tbody>\n",
       "    <tr>\n",
       "      <th>count</th>\n",
       "      <td>2021.000000</td>\n",
       "    </tr>\n",
       "    <tr>\n",
       "      <th>mean</th>\n",
       "      <td>0.177279</td>\n",
       "    </tr>\n",
       "    <tr>\n",
       "      <th>std</th>\n",
       "      <td>0.461190</td>\n",
       "    </tr>\n",
       "    <tr>\n",
       "      <th>min</th>\n",
       "      <td>0.000000</td>\n",
       "    </tr>\n",
       "    <tr>\n",
       "      <th>25%</th>\n",
       "      <td>0.000000</td>\n",
       "    </tr>\n",
       "    <tr>\n",
       "      <th>50%</th>\n",
       "      <td>0.020000</td>\n",
       "    </tr>\n",
       "    <tr>\n",
       "      <th>75%</th>\n",
       "      <td>0.130000</td>\n",
       "    </tr>\n",
       "    <tr>\n",
       "      <th>max</th>\n",
       "      <td>6.700000</td>\n",
       "    </tr>\n",
       "  </tbody>\n",
       "</table>\n",
       "</div>"
      ],
      "text/plain": [
       "              prcp\n",
       "count  2021.000000\n",
       "mean      0.177279\n",
       "std       0.461190\n",
       "min       0.000000\n",
       "25%       0.000000\n",
       "50%       0.020000\n",
       "75%       0.130000\n",
       "max       6.700000"
      ]
     },
     "execution_count": 15,
     "metadata": {},
     "output_type": "execute_result"
    }
   ],
   "source": [
    "# Use Pandas to calculate the summary statistics for the precipitation data\n",
    "# Perform a query to retrieve the data and precipitation scores\n",
    "all_precip_data = session.query(Measurement.date, Measurement.prcp).\\\n",
    "    filter(Measurement.date >= start_dt).\\\n",
    "    filter(Measurement.date <= end_dt).\\\n",
    "    order_by(Measurement.date).all()\n",
    "pd.DataFrame(all_precip_data).describe()"
   ]
  },
  {
   "cell_type": "markdown",
   "metadata": {},
   "source": [
    "# Exploratory Station Analysis"
   ]
  },
  {
   "cell_type": "code",
   "execution_count": 16,
   "metadata": {},
   "outputs": [
    {
     "name": "stdout",
     "output_type": "stream",
     "text": [
      "9\n"
     ]
    }
   ],
   "source": [
    "# Design a query to calculate the total number of stations in the dataset\n",
    "num_stations = session.query(Measurement.station).\\\n",
    "                            distinct().count()\n",
    "print(num_stations)"
   ]
  },
  {
   "cell_type": "code",
   "execution_count": 17,
   "metadata": {},
   "outputs": [
    {
     "name": "stdout",
     "output_type": "stream",
     "text": [
      "[('USC00519281', 2772), ('USC00519397', 2724), ('USC00513117', 2709), ('USC00519523', 2669), ('USC00516128', 2612), ('USC00514830', 2202), ('USC00511918', 1979), ('USC00517948', 1372), ('USC00518838', 511)]\n"
     ]
    }
   ],
   "source": [
    "# Design a query to find the most active stations (i.e. which stations have the most rows?)\n",
    "# List the stations and their counts in descending order.\n",
    "station_activity = session.query(Measurement.station, func.count(Measurement.date)).\\\n",
    "    group_by(Measurement.station).\\\n",
    "    order_by(func.count(Measurement.date).desc()).all()\n",
    "print(station_activity)"
   ]
  },
  {
   "cell_type": "code",
   "execution_count": 22,
   "metadata": {},
   "outputs": [
    {
     "name": "stdout",
     "output_type": "stream",
     "text": [
      "The most-active station was: USC00519281\n",
      "The minimum, maximum and average temps were [(54.0, 85.0, 71.66378066378067)]\n"
     ]
    }
   ],
   "source": [
    "# Using the most active station id from the previous query, calculate the lowest, highest, and average temperature.\n",
    "most_active_station = session.query(Measurement.station, func.count(Measurement.date)).\\\n",
    "    group_by(Measurement.station).\\\n",
    "    order_by(func.count(Measurement.date).desc()).first()\n",
    "\n",
    "most_active_station_id = most_active_station[0]\n",
    "\n",
    "results = session.query(func.min(Measurement.tobs), func.max(Measurement.tobs), func.avg(Measurement.tobs)).\\\n",
    "    filter(Measurement.station == most_active_station_id).all()\n",
    "\n",
    "print(f\"The most-active station was: {most_active_station_id}\")\n",
    "print(f\"The minimum, maximum and average temps were {results}\")\n"
   ]
  },
  {
   "cell_type": "code",
   "execution_count": 30,
   "metadata": {},
   "outputs": [
    {
     "name": "stdout",
     "output_type": "stream",
     "text": [
      "[('2016-08-23', 77.0), ('2016-08-24', 77.0), ('2016-08-25', 80.0), ('2016-08-26', 80.0), ('2016-08-27', 75.0), ('2016-08-28', 73.0), ('2016-08-29', 78.0), ('2016-08-30', 77.0), ('2016-08-31', 78.0), ('2016-09-01', 80.0), ('2016-09-02', 80.0), ('2016-09-03', 78.0), ('2016-09-04', 78.0), ('2016-09-05', 78.0), ('2016-09-06', 73.0), ('2016-09-07', 74.0), ('2016-09-08', 80.0), ('2016-09-09', 79.0), ('2016-09-10', 77.0), ('2016-09-11', 80.0), ('2016-09-12', 76.0), ('2016-09-13', 79.0), ('2016-09-14', 75.0), ('2016-09-15', 79.0), ('2016-09-16', 78.0), ('2016-09-17', 79.0), ('2016-09-18', 78.0), ('2016-09-19', 78.0), ('2016-09-20', 76.0), ('2016-09-21', 74.0), ('2016-09-22', 77.0), ('2016-09-23', 78.0), ('2016-09-24', 79.0), ('2016-09-25', 79.0), ('2016-09-26', 77.0), ('2016-09-27', 80.0), ('2016-09-28', 78.0), ('2016-09-29', 78.0), ('2016-09-30', 78.0), ('2016-10-01', 77.0), ('2016-10-02', 79.0), ('2016-10-03', 79.0), ('2016-10-04', 79.0), ('2016-10-05', 79.0), ('2016-10-06', 75.0), ('2016-10-07', 76.0), ('2016-10-08', 73.0), ('2016-10-09', 72.0), ('2016-10-10', 71.0), ('2016-10-11', 77.0), ('2016-10-12', 79.0), ('2016-10-13', 78.0), ('2016-10-14', 79.0), ('2016-10-15', 77.0), ('2016-10-16', 79.0), ('2016-10-17', 77.0), ('2016-10-18', 78.0), ('2016-10-19', 78.0), ('2016-10-20', 78.0), ('2016-10-21', 78.0), ('2016-10-22', 77.0), ('2016-10-23', 74.0), ('2016-10-24', 75.0), ('2016-10-25', 76.0), ('2016-10-26', 73.0), ('2016-10-27', 76.0), ('2016-10-28', 74.0), ('2016-10-29', 77.0), ('2016-10-30', 76.0), ('2016-10-31', 76.0), ('2016-11-01', 74.0), ('2016-11-02', 75.0), ('2016-11-03', 75.0), ('2016-11-04', 75.0), ('2016-11-05', 75.0), ('2016-11-06', 71.0), ('2016-11-07', 63.0), ('2016-11-08', 70.0), ('2016-11-09', 68.0), ('2016-11-10', 67.0), ('2016-11-11', 77.0), ('2016-11-12', 74.0), ('2016-11-13', 77.0), ('2016-11-14', 76.0), ('2016-11-15', 76.0), ('2016-11-16', 75.0), ('2016-11-17', 76.0), ('2016-11-18', 75.0), ('2016-11-19', 73.0), ('2016-11-20', 75.0), ('2016-11-21', 73.0), ('2016-11-22', 75.0), ('2016-11-23', 74.0), ('2016-11-24', 75.0), ('2016-11-25', 74.0), ('2016-11-26', 75.0), ('2016-11-27', 73.0), ('2016-11-28', 75.0), ('2016-11-29', 73.0), ('2016-11-30', 73.0), ('2016-12-01', 74.0), ('2016-12-02', 70.0), ('2016-12-03', 72.0), ('2016-12-04', 70.0), ('2016-12-05', 67.0), ('2016-12-06', 67.0), ('2016-12-07', 69.0), ('2016-12-08', 70.0), ('2016-12-09', 68.0), ('2016-12-10', 69.0), ('2016-12-11', 69.0), ('2016-12-12', 66.0), ('2016-12-13', 65.0), ('2016-12-14', 68.0), ('2016-12-15', 62.0), ('2016-12-16', 75.0), ('2016-12-17', 70.0), ('2016-12-18', 69.0), ('2016-12-19', 76.0), ('2016-12-20', 76.0), ('2016-12-21', 74.0), ('2016-12-22', 73.0), ('2016-12-23', 71.0), ('2016-12-24', 74.0), ('2016-12-25', 74.0), ('2016-12-26', 72.0), ('2016-12-27', 71.0), ('2016-12-28', 72.0), ('2016-12-29', 74.0), ('2016-12-30', 69.0), ('2016-12-31', 67.0), ('2017-01-01', 72.0), ('2017-01-02', 70.0), ('2017-01-03', 64.0), ('2017-01-04', 63.0), ('2017-01-05', 63.0), ('2017-01-06', 62.0), ('2017-01-07', 70.0), ('2017-01-08', 70.0), ('2017-01-09', 62.0), ('2017-01-10', 62.0), ('2017-01-11', 63.0), ('2017-01-12', 65.0), ('2017-01-13', 69.0), ('2017-01-14', 77.0), ('2017-01-15', 70.0), ('2017-01-16', 74.0), ('2017-01-17', 69.0), ('2017-01-18', 72.0), ('2017-01-19', 71.0), ('2017-01-20', 69.0), ('2017-01-21', 71.0), ('2017-01-22', 71.0), ('2017-01-23', 72.0), ('2017-01-24', 72.0), ('2017-01-25', 69.0), ('2017-01-26', 70.0), ('2017-01-27', 66.0), ('2017-01-28', 65.0), ('2017-01-29', 69.0), ('2017-01-30', 68.0), ('2017-01-31', 68.0), ('2017-02-01', 68.0), ('2017-02-02', 59.0), ('2017-02-03', 60.0), ('2017-02-04', 70.0), ('2017-02-05', 73.0), ('2017-02-06', 75.0), ('2017-02-07', 64.0), ('2017-02-08', 59.0), ('2017-02-09', 59.0), ('2017-02-10', 62.0), ('2017-02-11', 68.0), ('2017-02-12', 70.0), ('2017-02-13', 73.0), ('2017-02-14', 79.0), ('2017-02-15', 75.0), ('2017-02-16', 65.0), ('2017-02-17', 70.0), ('2017-02-18', 74.0), ('2017-02-19', 70.0), ('2017-02-20', 70.0), ('2017-02-21', 71.0), ('2017-02-22', 71.0), ('2017-02-23', 71.0), ('2017-02-24', 69.0), ('2017-02-25', 61.0), ('2017-02-26', 67.0), ('2017-02-27', 65.0), ('2017-02-28', 72.0), ('2017-03-01', 71.0), ('2017-03-02', 73.0), ('2017-03-03', 72.0), ('2017-03-04', 77.0), ('2017-03-05', 73.0), ('2017-03-06', 67.0), ('2017-03-07', 62.0), ('2017-03-08', 64.0), ('2017-03-09', 67.0), ('2017-03-10', 66.0), ('2017-03-11', 81.0), ('2017-03-12', 69.0), ('2017-03-13', 66.0), ('2017-03-14', 67.0), ('2017-03-15', 69.0), ('2017-03-16', 66.0), ('2017-03-17', 68.0), ('2017-03-18', 65.0), ('2017-03-19', 74.0), ('2017-03-20', 69.0), ('2017-03-21', 72.0), ('2017-03-22', 73.0), ('2017-03-23', 72.0), ('2017-03-24', 71.0), ('2017-03-25', 76.0), ('2017-03-26', 77.0), ('2017-03-27', 76.0), ('2017-03-28', 74.0), ('2017-03-29', 68.0), ('2017-03-30', 73.0), ('2017-03-31', 71.0), ('2017-04-01', 74.0), ('2017-04-02', 75.0), ('2017-04-03', 70.0), ('2017-04-04', 67.0), ('2017-04-05', 71.0), ('2017-04-06', 67.0), ('2017-04-07', 74.0), ('2017-04-08', 77.0), ('2017-04-09', 78.0), ('2017-04-10', 67.0), ('2017-04-11', 70.0), ('2017-04-12', 69.0), ('2017-04-13', 69.0), ('2017-04-14', 74.0), ('2017-04-15', 78.0), ('2017-04-16', 71.0), ('2017-04-17', 67.0), ('2017-04-18', 68.0), ('2017-04-19', 67.0), ('2017-04-20', 76.0), ('2017-04-21', 69.0), ('2017-04-22', 72.0), ('2017-04-23', 76.0), ('2017-04-24', 68.0), ('2017-04-25', 72.0), ('2017-04-26', 74.0), ('2017-04-27', 70.0), ('2017-04-28', 67.0), ('2017-04-29', 72.0), ('2017-04-30', 60.0), ('2017-05-01', 65.0), ('2017-05-02', 75.0), ('2017-05-03', 70.0), ('2017-05-04', 75.0), ('2017-05-05', 70.0), ('2017-05-06', 79.0), ('2017-05-07', 75.0), ('2017-05-08', 70.0), ('2017-05-09', 67.0), ('2017-05-10', 74.0), ('2017-05-11', 70.0), ('2017-05-12', 75.0), ('2017-05-13', 76.0), ('2017-05-14', 77.0), ('2017-05-15', 74.0), ('2017-05-16', 74.0), ('2017-05-17', 74.0), ('2017-05-18', 69.0), ('2017-05-19', 68.0), ('2017-05-20', 76.0), ('2017-05-21', 74.0), ('2017-05-22', 71.0), ('2017-05-23', 71.0), ('2017-05-24', 74.0), ('2017-05-25', 74.0), ('2017-05-26', 74.0), ('2017-05-27', 74.0), ('2017-05-28', 80.0), ('2017-05-29', 74.0), ('2017-05-30', 72.0), ('2017-05-31', 75.0), ('2017-06-01', 80.0), ('2017-06-02', 76.0), ('2017-06-03', 76.0), ('2017-06-04', 77.0), ('2017-06-05', 75.0), ('2017-06-06', 75.0), ('2017-06-07', 75.0), ('2017-06-08', 75.0), ('2017-06-09', 72.0), ('2017-06-10', 74.0), ('2017-06-11', 74.0), ('2017-06-12', 74.0), ('2017-06-13', 76.0), ('2017-06-14', 74.0), ('2017-06-15', 75.0), ('2017-06-16', 73.0), ('2017-06-17', 79.0), ('2017-06-18', 75.0), ('2017-06-19', 72.0), ('2017-06-20', 72.0), ('2017-06-21', 74.0), ('2017-06-22', 72.0), ('2017-06-23', 72.0), ('2017-06-24', 77.0), ('2017-06-25', 71.0), ('2017-06-26', 73.0), ('2017-06-27', 76.0), ('2017-06-28', 77.0), ('2017-06-29', 76.0), ('2017-06-30', 76.0), ('2017-07-01', 79.0), ('2017-07-02', 81.0), ('2017-07-03', 76.0), ('2017-07-04', 78.0), ('2017-07-05', 77.0), ('2017-07-06', 74.0), ('2017-07-07', 75.0), ('2017-07-08', 78.0), ('2017-07-09', 78.0), ('2017-07-10', 69.0), ('2017-07-11', 72.0), ('2017-07-12', 74.0), ('2017-07-13', 74.0), ('2017-07-14', 76.0), ('2017-07-15', 80.0), ('2017-07-16', 80.0), ('2017-07-17', 76.0), ('2017-07-18', 76.0), ('2017-07-19', 76.0), ('2017-07-20', 77.0), ('2017-07-21', 77.0), ('2017-07-22', 77.0), ('2017-07-23', 82.0), ('2017-07-24', 75.0), ('2017-07-25', 77.0), ('2017-07-26', 75.0), ('2017-07-27', 76.0), ('2017-07-28', 81.0), ('2017-07-29', 82.0), ('2017-07-30', 81.0), ('2017-07-31', 76.0), ('2017-08-04', 77.0), ('2017-08-05', 82.0), ('2017-08-06', 83.0), ('2017-08-13', 77.0), ('2017-08-14', 77.0), ('2017-08-15', 77.0), ('2017-08-16', 76.0), ('2017-08-17', 76.0), ('2017-08-18', 79.0)]\n"
     ]
    }
   ],
   "source": [
    "# Using the most active station id\n",
    "# Query the last 12 months of temperature observation data for this station and plot the results as a histogram\n",
    "most_active = session.query(Measurement.date, Measurement.tobs).\\\n",
    "    filter(Measurement.station == most_active_station_id).\\\n",
    "    filter(Measurement.date >= start_dt).\\\n",
    "    filter(Measurement.date <= end_dt).all()\n",
    "print(most_active)\n",
    "\n"
   ]
  },
  {
   "cell_type": "code",
   "execution_count": 31,
   "metadata": {},
   "outputs": [
    {
     "data": {
      "text/html": [
       "<div>\n",
       "<style scoped>\n",
       "    .dataframe tbody tr th:only-of-type {\n",
       "        vertical-align: middle;\n",
       "    }\n",
       "\n",
       "    .dataframe tbody tr th {\n",
       "        vertical-align: top;\n",
       "    }\n",
       "\n",
       "    .dataframe thead th {\n",
       "        text-align: right;\n",
       "    }\n",
       "</style>\n",
       "<table border=\"1\" class=\"dataframe\">\n",
       "  <thead>\n",
       "    <tr style=\"text-align: right;\">\n",
       "      <th></th>\n",
       "      <th>date</th>\n",
       "      <th>tobs</th>\n",
       "    </tr>\n",
       "  </thead>\n",
       "  <tbody>\n",
       "    <tr>\n",
       "      <th>0</th>\n",
       "      <td>2016-08-23</td>\n",
       "      <td>77.0</td>\n",
       "    </tr>\n",
       "    <tr>\n",
       "      <th>1</th>\n",
       "      <td>2016-08-24</td>\n",
       "      <td>77.0</td>\n",
       "    </tr>\n",
       "    <tr>\n",
       "      <th>2</th>\n",
       "      <td>2016-08-25</td>\n",
       "      <td>80.0</td>\n",
       "    </tr>\n",
       "    <tr>\n",
       "      <th>3</th>\n",
       "      <td>2016-08-26</td>\n",
       "      <td>80.0</td>\n",
       "    </tr>\n",
       "    <tr>\n",
       "      <th>4</th>\n",
       "      <td>2016-08-27</td>\n",
       "      <td>75.0</td>\n",
       "    </tr>\n",
       "  </tbody>\n",
       "</table>\n",
       "</div>"
      ],
      "text/plain": [
       "         date  tobs\n",
       "0  2016-08-23  77.0\n",
       "1  2016-08-24  77.0\n",
       "2  2016-08-25  80.0\n",
       "3  2016-08-26  80.0\n",
       "4  2016-08-27  75.0"
      ]
     },
     "execution_count": 31,
     "metadata": {},
     "output_type": "execute_result"
    }
   ],
   "source": [
    "# Save the query results as a Pandas DataFrame. \n",
    "most_active_df = pd.DataFrame(most_active)\n",
    "most_active_df.reset_index()\n",
    "\n",
    "# Sort the dataframe by date\n",
    "#precip_data_df.sort_values(\"Date\")\n",
    "most_active_df.head()"
   ]
  },
  {
   "cell_type": "code",
   "execution_count": 32,
   "metadata": {},
   "outputs": [
    {
     "data": {
      "image/png": "[encoded data removed]",
      "text/plain": [
       "<Figure size 640x480 with 1 Axes>"
      ]
     },
     "metadata": {},
     "output_type": "display_data"
    }
   ],
   "source": [
    "ax = most_active_df.plot.hist(bins=12)\n",
    "plt.xlabel('Temperature')\n",
    "plt.show()"
   ]
  },
  {
   "cell_type": "markdown",
   "metadata": {},
   "source": [
    "# Close Session"
   ]
  },
  {
   "cell_type": "code",
   "execution_count": 23,
   "metadata": {},
   "outputs": [],
   "source": [
    "# Close Session\n",
    "session.close()\n"
   ]
  },
  {
   "cell_type": "code",
   "execution_count": null,
   "metadata": {},
   "outputs": [],
   "source": []
  }
 ],
 "metadata": {
  "anaconda-cloud": {},
  "kernel_info": {
   "name": "python3"
  },
  "kernelspec": {
   "display_name": "datadev",
   "language": "python",
   "name": "python3"
  },
  "language_info": {
   "codemirror_mode": {
    "name": "ipython",
    "version": 3
   },
   "file_extension": ".py",
   "mimetype": "text/x-python",
   "name": "python",
   "nbconvert_exporter": "python",
   "pygments_lexer": "ipython3",
   "version": "3.10.16"
  },
  "nteract": {
   "version": "0.12.3"
  },
  "varInspector": {
   "cols": {
    "lenName": 16,
    "lenType": 16,
    "lenVar": 40
   },
   "kernels_config": {
    "python": {
     "delete_cmd_postfix": "",
     "delete_cmd_prefix": "del ",
     "library": "var_list.py",
     "varRefreshCmd": "print(var_dic_list())"
    },
    "r": {
     "delete_cmd_postfix": ") ",
     "delete_cmd_prefix": "rm(",
     "library": "var_list.r",
     "varRefreshCmd": "cat(var_dic_list()) "
    }
   },
   "types_to_exclude": [
    "module",
    "function",
    "builtin_function_or_method",
    "instance",
    "_Feature"
   ],
   "window_display": false
  }
 },
 "nbformat": 4,
 "nbformat_minor": 4
}
